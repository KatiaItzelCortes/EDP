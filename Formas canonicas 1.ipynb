{
  "nbformat": 4,
  "nbformat_minor": 0,
  "metadata": {
    "colab": {
      "provenance": [],
      "authorship_tag": "ABX9TyOxhxWWc60aTI9ZdqFN3D7h",
      "include_colab_link": true
    },
    "kernelspec": {
      "name": "python3",
      "display_name": "Python 3"
    },
    "language_info": {
      "name": "python"
    }
  },
  "cells": [
    {
      "cell_type": "markdown",
      "metadata": {
        "id": "view-in-github",
        "colab_type": "text"
      },
      "source": [
        "<a href=\"https://colab.research.google.com/github/KatiaItzelCortes/EDP/blob/main/Formas%20canonicas%201.ipynb\" target=\"_parent\"><img src=\"https://colab.research.google.com/assets/colab-badge.svg\" alt=\"Open In Colab\"/></a>"
      ]
    },
    {
      "cell_type": "code",
      "execution_count": 2,
      "metadata": {
        "id": "CUxi_JO8YF7m"
      },
      "outputs": [],
      "source": [
        "from sympy import symbols, sqrt, diff, Function"
      ]
    },
    {
      "cell_type": "code",
      "source": [
        "def classify_pde(A, B, C):\n",
        "    \"\"\"\n",
        "    Clasifica una Ecuación Diferencial Parcial de segundo orden\n",
        "    basada en el discriminante B^2 - 4AC.\n",
        "\n",
        "    Parámetros:\n",
        "    A, B, C: Coeficientes de u_xx, u_xy, u_yy respectivamente.\n",
        "\n",
        "    Retorna:\n",
        "    str: El tipo de EDP (Elíptica, Parabólica, Hiperbólica).\n",
        "    float: El valor del discriminante.\n",
        "    \"\"\"\n",
        "    discriminant = B**2 - 4 * A * C\n",
        "    if discriminant < 0:\n",
        "        pde_type = \"Elíptica\"\n",
        "    elif discriminant == 0:\n",
        "        pde_type = \"Parabólica\"\n",
        "    else:\n",
        "        pde_type = \"Hiperbólica\"\n",
        "    return pde_type, discriminant"
      ],
      "metadata": {
        "id": "2aj_YXrBYYWI"
      },
      "execution_count": 3,
      "outputs": []
    },
    {
      "cell_type": "code",
      "source": [
        "def hyperbolic_canonical_form(A, B, C, eqn_terms):\n",
        "    \"\"\"\n",
        "    Calcula la transformación lineal y la forma canónica para una EDP hiperbólica.\n",
        "\n",
        "    Parámetros:\n",
        "    A, B, C: Coeficientes de u_xx, u_xy, u_yy respectivamente.\n",
        "    eqn_terms: Diccionario de términos de la EDP original,\n",
        "               ej. {'uxx': 1, 'uxy': -4, 'uyy': 4, 'ux': 2, 'uy': 1, 'u': 1}\n",
        "\n",
        "    Retorna:\n",
        "    tuple: (transformacion_xi, transformacion_eta, edp_canonica_str)\n",
        "    \"\"\"\n",
        "    x, y, xi, eta = symbols('x y xi eta')\n",
        "    u = Function('u')(x, y)\n",
        "\n",
        "    discriminant = B**2 - 4 * A * C\n",
        "    if discriminant <= 0:\n",
        "        return \"La EDP no es hiperbólica para esta función.\", None, None\n",
        "\n",
        "    sqrt_discriminant = sqrt(discriminant)"
      ],
      "metadata": {
        "id": "OPESm4YWYYkn"
      },
      "execution_count": 4,
      "outputs": []
    },
    {
      "cell_type": "code",
      "source": [
        " # Transformaciones lineales\n",
        "    xi_expr = -(B + sqrt_discriminant) * x + 2 * A * y\n",
        "    eta_expr = -(B - sqrt_discriminant) * x + 2 * A * y\n",
        "\n",
        "    # Derivadas de u en términos de xi y eta\n",
        "    # u_x = u_xi * xi_x + u_eta * eta_x\n",
        "    # u_y = u_xi * xi_y + u_eta * eta_y\n",
        "\n",
        "    # Calculamos las derivadas de xi y eta con respecto a x e y\n",
        "    xi_x = diff(xi_expr, x)\n",
        "    xi_y = diff(xi_expr, y)\n",
        "    eta_x = diff(eta_expr, x)\n",
        "    eta_y = diff(eta_expr, y)"
      ],
      "metadata": {
        "colab": {
          "base_uri": "https://localhost:8080/",
          "height": 176
        },
        "id": "zEkVGpHGYYv9",
        "outputId": "2caca025-df33-4722-d857-a6d0a7fd330f"
      },
      "execution_count": 15,
      "outputs": [
        {
          "output_type": "error",
          "ename": "IndentationError",
          "evalue": "unexpected indent (<ipython-input-15-d49991ebac8c>, line 2)",
          "traceback": [
            "\u001b[0;36m  File \u001b[0;32m\"<ipython-input-15-d49991ebac8c>\"\u001b[0;36m, line \u001b[0;32m2\u001b[0m\n\u001b[0;31m    xi_expr = -(B + sqrt_discriminant) * x + 2 * A * y\u001b[0m\n\u001b[0m    ^\u001b[0m\n\u001b[0;31mIndentationError\u001b[0m\u001b[0;31m:\u001b[0m unexpected indent\n"
          ]
        }
      ]
    },
    {
      "cell_type": "code",
      "source": [
        "# Ahora, para los términos de segundo orden:\n",
        "    # u_xx = (u_xi*xi_x + u_eta*eta_x)_x\n",
        "    #      = u_xixi*xi_x^2 + u_xiet*xi_x*eta_x + u_etaxi*eta_x*xi_x + u_etaeta*eta_x^2 + u_xi*xi_xx + u_eta*eta_xx\n",
        "    # Simplificando y asumiendo que xi_xx y eta_xx son 0 (transformaciones lineales):\n",
        "    # u_xx = u_xixi*xi_x^2 + 2*u_xiet*xi_x*eta_x + u_etaeta*eta_x^2\n",
        "    # u_xy = u_xixi*xi_x*xi_y + u_xiet*xi_x*eta_y + u_etaxi*eta_x*xi_y + u_etaeta*eta_x*eta_y\n",
        "    #      = u_xixi*xi_x*xi_y + u_xiet*(xi_x*eta_y + eta_x*xi_y) + u_etaeta*eta_x*eta_y\n",
        "    # u_yy = u_xixi*xi_y^2 + 2*u_xiet*xi_y*eta_y + u_etaeta*eta_y^2\n",
        "\n",
        "    # Coeficientes para u_xixi, u_xieta, u_etaeta en la forma canónica\n",
        "    A_prime = eqn_terms.get('uxx', 0) * xi_x**2 + eqn_terms.get('uxy', 0) * xi_x * xi_y + eqn_terms.get('uyy', 0) * xi_y**2\n",
        "    B_prime = 2 * (eqn_terms.get('uxx', 0) * xi_x * eta_x + eqn_terms.get('uxy', 0) * (xi_x * eta_y + eta_x * xi_y) / 2 + eqn_terms.get('uyy', 0) * xi_y * eta_y)\n",
        "    C_prime = eqn_terms.get('uxx', 0) * eta_x**2 + eqn_terms.get('uxy', 0) * eta_x * eta_y + eqn_terms.get('uyy', 0) * eta_y**2\n",
        "\n",
        "    # Términos de primer orden\n",
        "    # u_x = u_xi * xi_x + u_eta * eta_x\n",
        "    # u_y = u_xi * xi_y + u_eta * eta_y\n",
        "    D_prime = eqn_terms.get('ux', 0) * xi_x + eqn_terms.get('uy', 0) * xi_y # Coeficiente de u_xi\n",
        "    E_prime = eqn_terms.get('ux', 0) * eta_x + eqn_terms.get('uy', 0) * eta_y # Coeficiente de u_eta\n",
        "\n",
        "    F_prime = eqn_terms.get('u', 0)"
      ],
      "metadata": {
        "colab": {
          "base_uri": "https://localhost:8080/",
          "height": 228
        },
        "id": "_hLb73pkYY0r",
        "outputId": "5b36f7c2-fcec-4019-b91f-ea2cc67a3505"
      },
      "execution_count": 14,
      "outputs": [
        {
          "output_type": "error",
          "ename": "IndentationError",
          "evalue": "unexpected indent (<ipython-input-14-43728bc3e8be>, line 11)",
          "traceback": [
            "\u001b[0;36m  File \u001b[0;32m\"<ipython-input-14-43728bc3e8be>\"\u001b[0;36m, line \u001b[0;32m11\u001b[0m\n\u001b[0;31m    A_prime = eqn_terms.get('uxx', 0) * xi_x**2 + eqn_terms.get('uxy', 0) * xi_x * xi_y + eqn_terms.get('uyy', 0) * xi_y**2\u001b[0m\n\u001b[0m    ^\u001b[0m\n\u001b[0;31mIndentationError\u001b[0m\u001b[0;31m:\u001b[0m unexpected indent\n"
          ]
        }
      ]
    },
    {
      "cell_type": "code",
      "source": [
        " # La forma canónica para hiperbólica es u_xieta + ... = 0\n",
        "    # Dividimos por B_prime/2 (coeficiente de u_xieta)\n",
        "    if B_prime != 0:\n",
        "        canonical_equation = (B_prime/2 * symbols('u_xieta') + \\\n",
        "                              A_prime * symbols('u_xixi') + \\\n",
        "                              C_prime * symbols('u_etaeta') + \\\n",
        "                              D_prime * symbols('u_xi') + \\\n",
        "                              E_prime * symbols('u_eta') + \\\n",
        "                              F_prime * symbols('u')).simplify()"
      ],
      "metadata": {
        "colab": {
          "base_uri": "https://localhost:8080/",
          "height": 141
        },
        "id": "n-KOj_SeYZLk",
        "outputId": "90771228-6792-487b-c556-93a9e71fab34"
      },
      "execution_count": 21,
      "outputs": [
        {
          "output_type": "error",
          "ename": "IndentationError",
          "evalue": "unexpected indent (<ipython-input-21-b7ce5d402458>, line 3)",
          "traceback": [
            "\u001b[0;36m  File \u001b[0;32m\"<ipython-input-21-b7ce5d402458>\"\u001b[0;36m, line \u001b[0;32m3\u001b[0m\n\u001b[0;31m    if B_prime != 0:\u001b[0m\n\u001b[0m    ^\u001b[0m\n\u001b[0;31mIndentationError\u001b[0m\u001b[0;31m:\u001b[0m unexpected indent\n"
          ]
        }
      ]
    },
    {
      "cell_type": "code",
      "source": [
        " # Normalizamos dividiendo por el coeficiente de u_xieta\n",
        "        canonical_equation_normalized = (canonical_equation / (B_prime/2)).simplify()\n",
        "    else:\n",
        "        # Esto no debería pasar en una transformación hiperbólica\n",
        "        canonical_equation_normalized = \"No se pudo normalizar, el coeficiente de u_xieta es cero.\"\n",
        "\n",
        "\n",
        "    # Para la forma canónica, A_prime y C_prime deberían ser cero.\n",
        "    # Si las transformaciones son correctas, esto se cumplirá.\n",
        "    # La forma canónica es simplemente u_xieta + (términos de orden inferior) = 0\n",
        "    # Donde los términos de orden inferior son (D_prime/ (B_prime/2)) u_xi + (E_prime / (B_prime/2)) u_eta + (F_prime / (B_prime/2)) u\n",
        "\n",
        "    # Construimos la cadena de la EDP canónica\n",
        "    canonical_str = f\"{B_prime/2} * u_xieta\"\n",
        "    if D_prime != 0:\n",
        "        canonical_str += f\" + {D_prime} * u_xi\"\n",
        "    if E_prime != 0:\n",
        "        canonical_str += f\" + {E_prime} * u_eta\"\n",
        "    if F_prime != 0:\n",
        "        canonical_str += f\" + {F_prime} * u\"\n",
        "    canonical_str += \" = 0\"\n",
        "\n",
        "    return xi_expr, eta_expr, canonical_str.replace(\"+-\", \"-\").replace(\"++\", \"+\")"
      ],
      "metadata": {
        "colab": {
          "base_uri": "https://localhost:8080/",
          "height": 141
        },
        "id": "jROr9717ZKlR",
        "outputId": "3aa35ded-8278-4e59-b077-5dd166ce6e84"
      },
      "execution_count": 20,
      "outputs": [
        {
          "output_type": "error",
          "ename": "IndentationError",
          "evalue": "unindent does not match any outer indentation level (<tokenize>, line 3)",
          "traceback": [
            "\u001b[0;36m  File \u001b[0;32m\"<tokenize>\"\u001b[0;36m, line \u001b[0;32m3\u001b[0m\n\u001b[0;31m    else:\u001b[0m\n\u001b[0m    ^\u001b[0m\n\u001b[0;31mIndentationError\u001b[0m\u001b[0;31m:\u001b[0m unindent does not match any outer indentation level\n"
          ]
        }
      ]
    },
    {
      "cell_type": "code",
      "source": [
        "# Ejemplo del pizarrón: u_xx - 4u_xy + 4u_yy + 2u_x + u_y + u = 0\n",
        "A_pizarra = 1\n",
        "B_pizarra = -4\n",
        "C_pizarra = 4\n",
        "eqn_terms_pizarra = {'uxx': 1, 'uxy': -4, 'uyy': 4, 'ux': 2, 'uy': 1, 'u': 1}"
      ],
      "metadata": {
        "id": "XpSyj-T9ZKzs"
      },
      "execution_count": 18,
      "outputs": []
    },
    {
      "cell_type": "code",
      "source": [
        "# 1) Calcular el discriminante y decidir el tipo de una EDP dada.\n",
        "pde_type, discriminant = classify_pde(A_pizarra, B_pizarra, C_pizarra)\n",
        "print(f\"1) Clasificación de la EDP:\")\n",
        "print(f\"   Coeficientes: A={A_pizarra}, B={B_pizarra}, C={C_pizarra}\")\n",
        "print(f\"   Discriminante (B^2 - 4AC): {discriminant}\")\n",
        "print(f\"   Tipo de EDP: {pde_type}\")"
      ],
      "metadata": {
        "colab": {
          "base_uri": "https://localhost:8080/"
        },
        "id": "pvXgrzqhZLA3",
        "outputId": "0c09165e-c44e-470e-e175-12df30a39bd1"
      },
      "execution_count": 17,
      "outputs": [
        {
          "output_type": "stream",
          "name": "stdout",
          "text": [
            "1) Clasificación de la EDP:\n",
            "   Coeficientes: A=1, B=-4, C=4\n",
            "   Discriminante (B^2 - 4AC): 0\n",
            "   Tipo de EDP: Parabólica\n"
          ]
        }
      ]
    },
    {
      "cell_type": "code",
      "source": [
        "# 2) Dar la transformación lineal para llevar a su forma canónica una ecuación hiperbólica.\n",
        "# 3) Devolver la EDP en su forma canónica.\n",
        "if pde_type == \"Hiperbólica\":\n",
        "    xi_transform, eta_transform, canonical_eq_str = hyperbolic_canonical_form(A_pizarra, B_pizarra, C_pizarra, eqn_terms_pizarra)\n",
        "    print(\"\\n2) Transformación lineal para la forma canónica (para EDP hiperbólica):\")\n",
        "    print(f\"   xi = {xi_transform}\")\n",
        "    print(f\"   eta = {eta_transform}\")\n",
        "    print(\"\\n3) EDP en su forma canónica:\")\n",
        "    print(f\"   {canonical_eq_str}\")\n",
        "else:\n",
        "    print(\"\\nLa EDP no es hiperbólica, por lo que no se aplica la transformación canónica hiperbólica.\")"
      ],
      "metadata": {
        "colab": {
          "base_uri": "https://localhost:8080/"
        },
        "id": "CVQrqhqcZLIi",
        "outputId": "5d757d00-1ff8-437b-b985-0fbc1d97b10a"
      },
      "execution_count": 22,
      "outputs": [
        {
          "output_type": "stream",
          "name": "stdout",
          "text": [
            "\n",
            "La EDP no es hiperbólica, por lo que no se aplica la transformación canónica hiperbólica.\n"
          ]
        }
      ]
    },
    {
      "cell_type": "code",
      "source": [
        "from sympy import symbols, sqrt, diff, Function\n",
        "\n",
        "def classify_pde(A, B, C):\n",
        "    \"\"\"\n",
        "    Clasifica una Ecuación Diferencial Parcial de segundo orden\n",
        "    basada en el discriminante B^2 - 4AC.\n",
        "\n",
        "    Parámetros:\n",
        "    A, B, C: Coeficientes de u_xx, u_xy, u_yy respectivamente.\n",
        "\n",
        "    Retorna:\n",
        "    str: El tipo de EDP (Elíptica, Parabólica, Hiperbólica).\n",
        "    float: El valor del discriminante.\n",
        "    \"\"\"\n",
        "    discriminant = B**2 - 4 * A * C\n",
        "    if discriminant < 0:\n",
        "        pde_type = \"Elíptica\"\n",
        "    elif discriminant == 0:\n",
        "        pde_type = \"Parabólica\"\n",
        "    else:\n",
        "        pde_type = \"Hiperbólica\"\n",
        "    return pde_type, discriminant\n",
        "\n",
        "def hyperbolic_canonical_form(A, B, C, eqn_terms):\n",
        "    \"\"\"\n",
        "    Calcula la transformación lineal y la forma canónica para una EDP hiperbólica.\n",
        "\n",
        "    Parámetros:\n",
        "    A, B, C: Coeficientes de u_xx, u_xy, u_yy respectivamente.\n",
        "    eqn_terms: Diccionario de términos de la EDP original,\n",
        "               ej. {'uxx': 1, 'uxy': -4, 'uyy': 4, 'ux': 2, 'uy': 1, 'u': 1}\n",
        "\n",
        "    Retorna:\n",
        "    tuple: (transformacion_xi, transformacion_eta, edp_canonica_str)\n",
        "    \"\"\"\n",
        "    x, y, xi, eta = symbols('x y xi eta')\n",
        "    u = Function('u')(x, y)\n",
        "\n",
        "    discriminant = B**2 - 4 * A * C\n",
        "    if discriminant <= 0:\n",
        "        return \"La EDP no es hiperbólica para esta función.\", None, None\n",
        "\n",
        "    sqrt_discriminant = sqrt(discriminant)\n",
        "\n",
        "    # Transformaciones lineales\n",
        "    xi_expr = -(B + sqrt_discriminant) * x + 2 * A * y\n",
        "    eta_expr = -(B - sqrt_discriminant) * x + 2 * A * y\n",
        "\n",
        "    # Derivadas de u en términos de xi y eta\n",
        "    # u_x = u_xi * xi_x + u_eta * eta_x\n",
        "    # u_y = u_xi * xi_y + u_eta * eta_y\n",
        "\n",
        "    # Calculamos las derivadas de xi y eta con respecto a x e y\n",
        "    xi_x = diff(xi_expr, x)\n",
        "    xi_y = diff(xi_expr, y)\n",
        "    eta_x = diff(eta_expr, x)\n",
        "    eta_y = diff(eta_expr, y)\n",
        "\n",
        "    # Ahora, para los términos de segundo orden:\n",
        "    # u_xx = (u_xi*xi_x + u_eta*eta_x)_x\n",
        "    #      = u_xixi*xi_x^2 + u_xiet*xi_x*eta_x + u_etaxi*eta_x*xi_x + u_etaeta*eta_x^2 + u_xi*xi_xx + u_eta*eta_xx\n",
        "    # Simplificando y asumiendo que xi_xx y eta_xx son 0 (transformaciones lineales):\n",
        "    # u_xx = u_xixi*xi_x^2 + 2*u_xiet*xi_x*eta_x + u_etaeta*eta_x^2\n",
        "    # u_xy = u_xixi*xi_x*xi_y + u_xiet*xi_x*eta_y + u_etaxi*eta_x*xi_y + u_etaeta*eta_x*eta_y\n",
        "    #      = u_xixi*xi_x*xi_y + u_xiet*(xi_x*eta_y + eta_x*xi_y) + u_etaeta*eta_x*eta_y\n",
        "    # u_yy = u_xixi*xi_y^2 + 2*u_xiet*xi_y*eta_y + u_etaeta*eta_y^2\n",
        "\n",
        "    # Coeficientes para u_xixi, u_xieta, u_etaeta en la forma canónica\n",
        "    A_prime = eqn_terms.get('uxx', 0) * xi_x**2 + eqn_terms.get('uxy', 0) * xi_x * xi_y + eqn_terms.get('uyy', 0) * xi_y**2\n",
        "    B_prime = 2 * (eqn_terms.get('uxx', 0) * xi_x * eta_x + eqn_terms.get('uxy', 0) * (xi_x * eta_y + eta_x * xi_y) / 2 + eqn_terms.get('uyy', 0) * xi_y * eta_y)\n",
        "    C_prime = eqn_terms.get('uxx', 0) * eta_x**2 + eqn_terms.get('uxy', 0) * eta_x * eta_y + eqn_terms.get('uyy', 0) * eta_y**2\n",
        "\n",
        "    # Términos de primer orden\n",
        "    # u_x = u_xi * xi_x + u_eta * eta_x\n",
        "    # u_y = u_xi * xi_y + u_eta * eta_y\n",
        "    D_prime = eqn_terms.get('ux', 0) * xi_x + eqn_terms.get('uy', 0) * xi_y # Coeficiente de u_xi\n",
        "    E_prime = eqn_terms.get('ux', 0) * eta_x + eqn_terms.get('uy', 0) * eta_y # Coeficiente de u_eta\n",
        "\n",
        "    F_prime = eqn_terms.get('u', 0) # Coeficiente de u\n",
        "\n",
        "    # La forma canónica para hiperbólica es u_xieta + ... = 0\n",
        "    # Dividimos por B_prime/2 (coeficiente de u_xieta)\n",
        "    if B_prime != 0:\n",
        "        canonical_equation = (B_prime/2 * symbols('u_xieta') + \\\n",
        "                              A_prime * symbols('u_xixi') + \\\n",
        "                              C_prime * symbols('u_etaeta') + \\\n",
        "                              D_prime * symbols('u_xi') + \\\n",
        "                              E_prime * symbols('u_eta') + \\\n",
        "                              F_prime * symbols('u')).simplify()\n",
        "\n",
        "        # Normalizamos dividiendo por el coeficiente de u_xieta\n",
        "        canonical_equation_normalized = (canonical_equation / (B_prime/2)).simplify()\n",
        "    else:\n",
        "        # Esto no debería pasar en una transformación hiperbólica\n",
        "        canonical_equation_normalized = \"No se pudo normalizar, el coeficiente de u_xieta es cero.\"\n",
        "\n",
        "\n",
        "    # Para la forma canónica, A_prime y C_prime deberían ser cero.\n",
        "    # Si las transformaciones son correctas, esto se cumplirá.\n",
        "    # La forma canónica es simplemente u_xieta + (términos de orden inferior) = 0\n",
        "    # Donde los términos de orden inferior son (D_prime/ (B_prime/2)) u_xi + (E_prime / (B_prime/2)) u_eta + (F_prime / (B_prime/2)) u\n",
        "\n",
        "    # Construimos la cadena de la EDP canónica\n",
        "    canonical_str = f\"{B_prime/2} * u_xieta\"\n",
        "    if D_prime != 0:\n",
        "        canonical_str += f\" + {D_prime} * u_xi\"\n",
        "    if E_prime != 0:\n",
        "        canonical_str += f\" + {E_prime} * u_eta\"\n",
        "    if F_prime != 0:\n",
        "        canonical_str += f\" + {F_prime} * u\"\n",
        "    canonical_str += \" = 0\"\n",
        "\n",
        "    return xi_expr, eta_expr, canonical_str.replace(\"+-\", \"-\").replace(\"++\", \"+\")\n",
        "\n",
        "# Ejemplo del pizarrón: u_xx - 4u_xy + 4u_yy + 2u_x + u_y + u = 0\n",
        "A_pizarra = 1\n",
        "B_pizarra = -4\n",
        "C_pizarra = 4\n",
        "eqn_terms_pizarra = {'uxx': 1, 'uxy': -4, 'uyy': 4, 'ux': 2, 'uy': 1, 'u': 1}\n",
        "\n",
        "# 1) Calcular el discriminante y decidir el tipo de una EDP dada.\n",
        "pde_type, discriminant = classify_pde(A_pizarra, B_pizarra, C_pizarra)\n",
        "print(f\"1) Clasificación de la EDP:\")\n",
        "print(f\"   Coeficientes: A={A_pizarra}, B={B_pizarra}, C={C_pizarra}\")\n",
        "print(f\"   Discriminante (B^2 - 4AC): {discriminant}\")\n",
        "print(f\"   Tipo de EDP: {pde_type}\")\n",
        "\n",
        "# 2) Dar la transformación lineal para llevar a su forma canónica una ecuación hiperbólica.\n",
        "# 3) Devolver la EDP en su forma canónica.\n",
        "if pde_type == \"Hiperbólica\":\n",
        "    xi_transform, eta_transform, canonical_eq_str = hyperbolic_canonical_form(A_pizarra, B_pizarra, C_pizarra, eqn_terms_pizarra)\n",
        "    print(\"\\n2) Transformación lineal para la forma canónica (para EDP hiperbólica):\")\n",
        "    print(f\"   xi = {xi_transform}\")\n",
        "    print(f\"   eta = {eta_transform}\")\n",
        "    print(\"\\n3) EDP en su forma canónica:\")\n",
        "    print(f\"   {canonical_eq_str}\")\n",
        "else:\n",
        "    print(\"\\nLa EDP no es hiperbólica, por lo que no se aplica la transformación canónica hiperbólica.\")"
      ],
      "metadata": {
        "colab": {
          "base_uri": "https://localhost:8080/"
        },
        "id": "4aebLXtdcN-H",
        "outputId": "5fe2c362-1668-4e9d-8252-3ae4d60065d6"
      },
      "execution_count": 23,
      "outputs": [
        {
          "output_type": "stream",
          "name": "stdout",
          "text": [
            "1) Clasificación de la EDP:\n",
            "   Coeficientes: A=1, B=-4, C=4\n",
            "   Discriminante (B^2 - 4AC): 0\n",
            "   Tipo de EDP: Parabólica\n",
            "\n",
            "La EDP no es hiperbólica, por lo que no se aplica la transformación canónica hiperbólica.\n"
          ]
        }
      ]
    }
  ]
}